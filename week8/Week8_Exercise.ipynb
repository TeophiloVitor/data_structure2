{
  "nbformat": 4,
  "nbformat_minor": 0,
  "metadata": {
    "colab": {
      "provenance": [],
      "collapsed_sections": []
    },
    "kernelspec": {
      "name": "python3",
      "display_name": "Python 3"
    },
    "language_info": {
      "name": "python"
    }
  },
  "cells": [
    {
      "cell_type": "markdown",
      "source": [
        "## Student Identification\n",
        "\n",
        "Full Name 01: **Fernando Lucas Sousa Silva**\n",
        "\n",
        "Full Name 02: **Teophilo Vitor de Carvalho Clemente**\n",
        "\n",
        "# Exercise Q&A (1,00 point for grade in Unit 02)\n",
        "## Question 01\n",
        "Consider a network with N nodes. Given a single link, what is the maximum number of nodes that link can connect? Given a single node, what is the maximum number of links that can connect to that node?\n",
        "\n",
        "Answer:  2, visto que, apesar de ter N nós, como só temos um único link, ele só poderá conectar um nó a outro. 1, pois como temos só um nó ele pode ter um link que ligue ele mesmo somente.\n",
        "\n",
        "## Question 02\n",
        "Figure 1: Map of New York in 1880. From Report on the Social Statistics of Cities, Compiled by George E. Waring, Jr., U.S. Census Office, 1886. Image courtesy of University of Texas Libraries.\n",
        "Consider the road map in Figure 1. The grid-like structure of this network means that most nodes have the same degree. What is the most common degree for nodes in this network?\n",
        "\n",
        "Answer: 4, pois a grade dá a entender que a relação é que cada nó se relaciona com os 4 ao seu redor.\n",
        "\n",
        "## Question 03\n",
        "Consider the road map in Figure 1. Manhattan has a lot of one-way streets. This implies that a good network model of traffic flow would probably have directed links. Consider a subgraph of this network with grid-like connectivity and all one-way streets (i.e. each node is a four-way intersection of two one-way streets). What is the most common in-degree of nodes in this subgraph? What is the most common out-degree?\n",
        "\n",
        "Answer: 2 de entrada e 2 de saída, pois se a rua é de mão única então somente será um sentido, tanto na entrada como na saída.\n",
        "\n",
        "## Question 04\n",
        "What network quantity can we use to represent the volume of traffic between each pair of adjacent intersections in the Manhattan road map (Figure 1)?\n",
        "\n",
        "Answer: A rede teria que ter pelo menos 5 nó para atender ao quesito de entra e sair, teria o nó central e os 4 que estão ao seu redor.\n",
        "\n",
        "## Question 5\n",
        "Consider a directed network of N nodes. Now consider the total in-degree (i.e. the sum of the in-degree over all nodes in the network). Compare this to the analogous total out-degree. Which of the following must hold true for any such network?\n",
        "\n",
        "1.   Total in-degree must be less than total out-degree\n",
        "2.   Total in-degree must be greater than total out-degree\n",
        "3.   Total in-degree must be equal to total out-degree\n",
        "4.   None of these hold true in all instances\n",
        "\n",
        "Answer: Deve ser igual, pois dado que é direcionado, o que entra em um dado nó, será a saída do nó de origem.\n",
        "\n",
        "## Question 6\n",
        "Consider a Twitter retweet network, where users are nodes and we want to show how many times a given user has retweeted another user. What link type best captures this relation? \n",
        "1.   Undirected, unweighted \n",
        "2.   Undirected, weighted \n",
        "3.   Directed, unweighted \n",
        "4.   Directed, weighted\n",
        "\n",
        "Answer: Dirigido e ponderado, ele será dirigido pois o nó origem aponta para o nó que ele retweeta e deve ser ponderado pois o peso indicará a quantidade de retweets que aconteceram.\n",
        "\n",
        "## Question 7\n",
        "Consider a hashtag co-occurrence graph from Twitter. In this network, hashtags are the nodes, and a link between two hashtags indicates how often those two hashtags appear in tweets together. What link type would best capture this relation? \n",
        "1.   Undirected, unweighted \n",
        "2.   Undirected, weighted \n",
        "3.   Directed, unweighted \n",
        "4.   Directed, weighted\n",
        "\n",
        "Answer: Não dirigido e ponderado, pois não há diferença a ordem das hashtags (Não dirigido), apenas realiza a contagem da frequência em que ambas estão juntas, sendo um link mais forte ou mais fraco dependendo da frequência (ponderado)\n",
        "\n",
        "## Question 8\n",
        "Consider a network created from characters in a story or play. The nodes are people, and a link exists between two nodes if those characters ever engage in dialogue. Which type of edge could represent this relation? Justify your answer. \n",
        "1.   Undirected, unweighted \n",
        "2.   Undirected, weighted \n",
        "3.   Directed, unweighted \n",
        "4.   Directed, weighted\n",
        "\n",
        "Answer: Não dirigido e não ponderado, pois quem iniciou o diálogo não tem importância, basta um dos personagens iniciar o diálogo e o outro continuar e, assim, terá estabelecido um link entre os personagens. \n",
        "\n",
        "## Question 9\n",
        "Suppose we want to make a more complex version of a dialog network that captures how much each character speaks and to whom. What type of link would best represent this relation? \n",
        "1.   Undirected, unweighted \n",
        "2.   Undirected, weighted \n",
        "3.   Directed, unweighted \n",
        "4.   Directed, weighted\n",
        "\n",
        "Answer: Dirigido e ponderado, pois desse modo realizará a contagem em frequência de diálogo com um personagem específico (Ponderado) e também determinará quem iniciou o diálogo e para quem está se dirigindo. \n",
        "\n",
        "## Question 10\n",
        "Imagine that your social network has a subnetwork where you and 24 of your friends (25 people total) are all friends with each other. What is such a subnetwork called? And how many links are contained in the subnetwork?\n",
        "\n",
        "Answer: Esse tipo de rede é denominado **rede completa** já que todos os links possíveis existem. O cálculo de links é realizado da seguinte maneira: N(N-1)/2. Com isso, tendo 25 nós, temos: 25*24/2 = 300 links.\n",
        "\n",
        "## Question 11\n",
        "Consider an undirected network with N nodes. What is the maximum number of links this network can have?\n",
        "\n",
        "Answer: (N*(N-1))/2\n",
        "\n",
        "## Question 12\n",
        "Consider a bipartite network of N nodes,  nodes of type 1 and  nodes of type 2 (so that ). What is the maximum number of links in this network?\n",
        "\n",
        "Answer: N1 * N2\n",
        "\n",
        "## Question 13\n",
        "Given a complete network A with N nodes, and a bipartite network B also with N nodes, which of the following holds true for any: \n",
        "1.   Network A has more links than network B \n",
        "2.   Network A has the same number of links as network B \n",
        "3.   Network A has fewer links than network B \n",
        "4.   None of these hold true for all such \n",
        "\n",
        "Answer: Apenas a alternativa 1 está correta, como a forma de se obter o número máximo de links é diferente entre esses dois tipos de rede, a rede completa (A) possui mais links que a rede bipartida (B). \n",
        "\n",
        "## Question 14\n",
        "Consider this adjacency matrix:\n",
        "![matrix](https://camo.githubusercontent.com/e536fa8b88635370a8c04d86b77fc42a97e5003586a4b5b483f82ce34b75a607/68747470733a2f2f64726976652e676f6f676c652e636f6d2f75633f6578706f72743d766965772669643d316534414e71585f6b4a4350686e56697a76624b2d546f424a67725a4a70566465)\n",
        "\n",
        "An entry in the ith row and jth column indicates the weight of the link from node i to node j. For instance, the entry in the second row and third column is 2, meaning the weight of the link from node B to node C is 2. What kind of network does this matrix represent? \n",
        "1.   Undirected, unweighted \n",
        "2.   Undirected, weighted \n",
        "3.   Directed, unweighted \n",
        "4.   Directed, weighted\n",
        "\n",
        "Answer: Dirigido e ponderado, pois vemos que B se liga a C, porém não há uma ligação de C para B então a ligação é só em uma direção. Sabemos que ele é ponderado pois nessa mesma ligação de B para C tem o valor 2, que é o peso dessa ligação, se não fosse ponderado só veríamos 0 e 1 na matriz de adjacência. \n",
        "\n",
        "## Question 15\n",
        "We have seen that Facebook’s network is incredibly sparse. Assume it has approximately 1 billion users, each with 1000 friends on average.\n",
        "\n",
        "1. Suppose Facebook releases its annual report and it shows that while the number of users in the network has stayed the same, the average number of friends per user has increased. Would this imply that the network density increased, decreased, or stayed the same?\n",
        "2. Suppose instead that both the number of users and the average number of friends per user doubled. Would this imply the network density increased, decreased, or stayed the same?\n",
        "\n",
        "Answer: \n",
        "1. No caso do Facebook como a amizade é mútua, o grafo não é direcionado, temos que a fórmula da densidade é d = (2L)/N(N-1), com isso se o número de usuários (nós) permanece o mesmo, não teremos alteração no denominador, mas como a quantidade de amigos (ligações) aumentou, teremos um aumento no numerador, portanto a densidade da rede aumentou. \n",
        "2. Neste caso, devemos substituir a expressão na fórmula para obter uma conclusão, se fizermos isso e simplicarmos vamos obter d = 2L/N(2N-1), vemos que o numerador é o mesmo, já no denomidador temos um 2N onde antes era N, desse modo, por ter um denominador maior temos que a densidade da rede irá diminuir.\n",
        "\n",
        "## Question 16\n",
        "Netflix keeps data on customer preferences using a big bipartite network connecting users to titles. Suppose that from 2021 to 2022 Netflix’s library has remained the same size, while the number of users has increased. Further suppose that the average user’s degree in this network has remained constant. Has the density of this network increased, decreased, or stayed the same?\n",
        "\n",
        "Answer: Será diminuída, devido ao número máximo de links aumentar por causa do aumento de usuários, tendo em vista a expressão para densidade: L/L(max).\n",
        "\n",
        "# Exercise - Hands On (1,00 point for grade in Unit 02)\n",
        "\n",
        "### For the codes to work it is necessary to load the friends.adjlist file\n",
        "\n",
        "Implementing all hands on using NetworkX.\n",
        "\n",
        "## Hands On 01\n",
        "\n",
        "Often in the context of trees, a node with degree 1 is called a leaf. Write a function named get_leaves that takes a graph as an argument, loops through the nodes, and returns a list of nodes with degree 1."
      ],
      "metadata": {
        "id": "YV_t13AzlzIX"
      }
    },
    {
      "cell_type": "code",
      "source": [
        "import networkx as nx\n",
        "def get_leaves(G):\n",
        "  list = []\n",
        "  d = nx.degree(G)\n",
        "  for n, i in d:\n",
        "    if i == 1:\n",
        "      list.append(n)\n",
        "  return list"
      ],
      "metadata": {
        "id": "KINDdrvGBW8z"
      },
      "execution_count": null,
      "outputs": []
    },
    {
      "cell_type": "code",
      "source": [
        "# this block of code is only for networkx adapt it for graph-tool\n",
        "G = nx.Graph()\n",
        "G.add_edges_from([\n",
        "        ('a', 'b'),\n",
        "        ('a', 'd'),\n",
        "        ('c', 'd'),\n",
        "    ])\n",
        "assert set(get_leaves(G)) == {'c', 'b'}\n",
        "print(get_leaves(G))"
      ],
      "metadata": {
        "colab": {
          "base_uri": "https://localhost:8080/"
        },
        "id": "CopvdCs_RXc9",
        "outputId": "6c7fa0f2-56ab-4c96-b409-11fb267203f5"
      },
      "execution_count": null,
      "outputs": [
        {
          "output_type": "stream",
          "name": "stdout",
          "text": [
            "['b', 'c']\n"
          ]
        }
      ]
    },
    {
      "cell_type": "markdown",
      "source": [
        "## Hands On 02\n",
        "Write a function max_degree that takes a graph as its argument, and returns a 2-tuple with the name and degree of the node with highest degree."
      ],
      "metadata": {
        "id": "OC_XFxGQTGcx"
      }
    },
    {
      "cell_type": "code",
      "source": [
        "def max_degree(G):\n",
        "  d = nx.degree(G)\n",
        "  a = -1\n",
        "  for i, n in d:\n",
        "    if n > a:\n",
        "      a = n\n",
        "      b = i\n",
        "  tupla = (b, a)\n",
        "  return tupla"
      ],
      "metadata": {
        "id": "YzyA1vEITKMp"
      },
      "execution_count": null,
      "outputs": []
    },
    {
      "cell_type": "code",
      "source": [
        "# this block of code is only for networkx adapt it for graph-tool\n",
        "SG = nx.read_adjlist('friends.adjlist')\n",
        "assert max_degree(SG) == ('Claire', 4)\n",
        "print(max_degree(SG))"
      ],
      "metadata": {
        "colab": {
          "base_uri": "https://localhost:8080/"
        },
        "id": "8M11JF3DTNGR",
        "outputId": "396ede68-52fa-4ea2-fd19-a57ba2de3bd3"
      },
      "execution_count": null,
      "outputs": [
        {
          "output_type": "stream",
          "name": "stdout",
          "text": [
            "('Claire', 4)\n"
          ]
        }
      ]
    },
    {
      "cell_type": "markdown",
      "source": [
        "## Hands on 03\n",
        "Write a function mutual_friends that takes a graph and two nodes as arguments, and returns a list (or set) of nodes that are linked to both given nodes. For example, in the graph SG drawn above,\n",
        "\n",
        "*mutual_friends(SG, 'Alice', 'Claire') == ['Frank']*\n",
        "\n",
        "an empty list or set should be returned in the case where two nodes have no mutual friends, e.g. George and Bob in SG drawn above."
      ],
      "metadata": {
        "id": "gjmvzQotTQ-Q"
      }
    },
    {
      "cell_type": "code",
      "source": [
        "def mutual_friends(G,node_1,node_2):\n",
        "  op1 = set(G.neighbors(node_1))\n",
        "  op2 = set(G.neighbors(node_2))\n",
        "  mutual = []\n",
        "  for i in op1:\n",
        "    if i in op2:\n",
        "      mutual.append(i)\n",
        "  return mutual"
      ],
      "metadata": {
        "id": "dx3zVAFMTZF0"
      },
      "execution_count": null,
      "outputs": []
    },
    {
      "cell_type": "code",
      "source": [
        "# this block of code is only for networkx adapt it for graph-tool\n",
        "SG = nx.read_adjlist('friends.adjlist')\n",
        "#assert mutual_friends(SG, 'Alice', 'Claire') == ['Frank']\n",
        "#assert mutual_friends(SG, 'George', 'Bob') == []\n",
        "#assert sorted(mutual_friends(SG, 'Claire', 'George')) == ['Dennis', 'Frank']\n",
        "print(mutual_friends(SG, 'Alice', 'Claire'))\n",
        "print(mutual_friends(SG, 'George', 'Bob'))\n",
        "print(sorted(mutual_friends(SG, 'Claire', 'George')))"
      ],
      "metadata": {
        "colab": {
          "base_uri": "https://localhost:8080/"
        },
        "id": "v5JbS9G1TbSr",
        "outputId": "b062784f-999d-4846-c5d8-48a7cba483dd"
      },
      "execution_count": null,
      "outputs": [
        {
          "output_type": "stream",
          "name": "stdout",
          "text": [
            "['Frank']\n",
            "[]\n",
            "['Dennis', 'Frank']\n"
          ]
        }
      ]
    }
  ]
}