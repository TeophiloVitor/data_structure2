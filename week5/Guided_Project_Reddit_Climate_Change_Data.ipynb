{
  "nbformat": 4,
  "nbformat_minor": 0,
  "metadata": {
    "colab": {
      "provenance": [],
      "collapsed_sections": []
    },
    "kernelspec": {
      "name": "python3",
      "display_name": "Python 3"
    },
    "language_info": {
      "name": "python"
    }
  },
  "cells": [
    {
      "cell_type": "markdown",
      "source": [
        "## Guided Project\n",
        "- Objectives: \n",
        "  - 1) Given an id of a message on Reddit, return all information about the message;\n",
        "  - 2) Given a lower and upper bound of the \"sentiment\" column, return all messages with sentiment values ​​between the lower and upper bounds;\n",
        "  - 3) Given a parameter value, return two messages whose sum of the \"score\" column value is equal to the parameter. Return -1 if it doesn't exist.\n",
        "  - 4) Implement tests with pytest for validation purposes."
      ],
      "metadata": {
        "id": "C0_BDCDDRyLk"
      }
    },
    {
      "cell_type": "code",
      "execution_count": null,
      "metadata": {
        "id": "-0Cv_V2dQ2K_",
        "colab": {
          "base_uri": "https://localhost:8080/"
        },
        "outputId": "966b3891-c960-46c9-afb7-f231a8c87754"
      },
      "outputs": [
        {
          "output_type": "stream",
          "name": "stdout",
          "text": [
            "Drive already mounted at /content/drive; to attempt to forcibly remount, call drive.mount(\"/content/drive\", force_remount=True).\n"
          ]
        }
      ],
      "source": [
        "from google.colab import drive\n",
        "from time import time                                                     \n",
        "import random     \n",
        "drive.mount('/content/drive')"
      ]
    },
    {
      "cell_type": "markdown",
      "source": [
        "##Dataset of comments from Reddit\n"
      ],
      "metadata": {
        "id": "CwaGooqTPdLN"
      }
    },
    {
      "cell_type": "code",
      "source": [
        "dataset = \"./drive/MyDrive/the-reddit-climate-change-dataset-comments.csv\""
      ],
      "metadata": {
        "id": "K5gSRq0hMo2Z"
      },
      "execution_count": null,
      "outputs": []
    },
    {
      "cell_type": "markdown",
      "source": [
        "## Creating the Schedule class\n",
        "  - With all 3 functions implemented "
      ],
      "metadata": {
        "id": "HeiObYOAPhYe"
      }
    },
    {
      "cell_type": "code",
      "source": [
        "import csv\n",
        "class Schedule():\n",
        "  def __init__(self, dataset):\n",
        "        with open(dataset) as f:\n",
        "            reader = csv.reader(f)\n",
        "            rows = list(reader)\n",
        "        self.header = rows[0]         \n",
        "        self.rows = rows[1:]\n",
        "        for row in self.rows:         \n",
        "            row[-1] = int(row[-1])\n",
        "        self.id_comment = {}             \n",
        "        self.score = {}         \n",
        "        for row in self.rows:                       \n",
        "            self.id_comment[row[1]] = row\n",
        "            self.score[int(row[9])] = row\n",
        "  def messages_from_id(self, message_id):   \n",
        "    for row in self.rows:                  \n",
        "      if row[1] == message_id:\n",
        "        return row\n",
        "    return None  \n",
        "  def fast_messages_from_id(self, message_id): \n",
        "    if message_id in self.id_comment:           \n",
        "            return self.id_comment[message_id]\n",
        "    return None                          \n",
        "  def sentiment(self, lower, upper):\n",
        "    sentiments = []   \n",
        "    if lower > upper:\n",
        "      return -1\n",
        "    if lower <= 0:\n",
        "      return -1\n",
        "    for row in self.rows[lower:upper+1]:\n",
        "        sentiments.append(row[7])    \n",
        "    return sentiments\n",
        "  def messages_by_sum(self, p):\n",
        "    for i in (self.rows):\n",
        "      for j in (self.rows):\n",
        "        if int(i[9]) + int(j[9]) == p:\n",
        "          return i, j\n",
        "    return -1\n",
        "  def fast_messages_by_sum(self, p):\n",
        "    for i in (self.score):\n",
        "      for j in (self.score):\n",
        "        if i + j == p:\n",
        "          return self.score[i], self.score[j]\n",
        "    return -1"
      ],
      "metadata": {
        "id": "AF4jsUQJPSl_"
      },
      "execution_count": null,
      "outputs": []
    },
    {
      "cell_type": "code",
      "source": [
        "# This is useful to see some information about the Dataset\n",
        "schedule = Schedule(dataset)         # step 1 # Calling the class\n",
        "print(schedule.header)               # step 2 # Show the headers\n",
        "print(len(schedule.rows))            # step 3 # Show the number of rows\n",
        "print(\"########################\")\n",
        "\n",
        "#test function #1\n",
        "print(\"---- TEST RESULT #1 ----\")\n",
        "print(schedule.messages_from_id(\"imlddn9\"))\n",
        "print(schedule.fast_messages_from_id(\"imlddn9\"))\n",
        "\n",
        "#test function #2\n",
        "print(\"---- TEST RESULT #2 ----\")\n",
        "print(schedule.sentiment(1, 5))\n",
        "print(schedule.sentiment(1, 0))\n",
        "\n",
        "#test function #3\n",
        "print(\"---- TEST RESULT #3 ----\")\n",
        "print(schedule.messages_by_sum(20))\n",
        "print(schedule.fast_messages_by_sum(20))"
      ],
      "metadata": {
        "colab": {
          "base_uri": "https://localhost:8080/"
        },
        "id": "Cfq65KxKRUPd",
        "outputId": "b7a3a6f6-a65e-4367-a8ef-aa279ddf9801"
      },
      "execution_count": null,
      "outputs": [
        {
          "output_type": "stream",
          "name": "stdout",
          "text": [
            "['type', 'id', 'subreddit.id', 'subreddit.name', 'subreddit.nsfw', 'created_utc', 'permalink', 'body', 'sentiment', 'score']\n",
            "4600698\n",
            "########################\n",
            "---- TEST RESULT #1 ----\n",
            "['comment', 'imlddn9', '2qh3l', 'news', 'false', '1661990368', 'https://old.reddit.com/r/news/comments/x2cszk/us_life_expectancy_down_for_secondstraight_year/imlddn9/', 'Yeah but what the above commenter is saying is their base doesn’t want any of that. They detest all of those things, even the small gradual changes. Investing in nuclear energy is a tacit acknowledgement of man made climate change. Any acknowledgement or concession and they will be primaried out in a minute', '0.5719', 2]\n",
            "['comment', 'imlddn9', '2qh3l', 'news', 'false', '1661990368', 'https://old.reddit.com/r/news/comments/x2cszk/us_life_expectancy_down_for_secondstraight_year/imlddn9/', 'Yeah but what the above commenter is saying is their base doesn’t want any of that. They detest all of those things, even the small gradual changes. Investing in nuclear energy is a tacit acknowledgement of man made climate change. Any acknowledgement or concession and they will be primaried out in a minute', '0.5719', 2]\n",
            "---- TEST RESULT #2 ----\n",
            "[\"Any comparison of efficiency between solar and fossil fuels is nonsensical at best and intentionally misleading at worst. In no universe is light -&gt; photovoltaic cell -&gt; electricity less efficient than light -&gt; entire food chain -&gt; biomass -&gt; decomposition -&gt; millions of years of geothermal heat and pressure -&gt; extraction -&gt; refining and transport -&gt; burning -&gt; turbine generator -&gt; electricity.\\n\\nUgly? More ugly than power lines, roads, apartment buildings, tractors, fences, etc etc etc? You're simply not used to it. Also, who cares? Sure, millions of people died in the displacement from sea rise, famines cause by climate change, and wars from resource scarcity, but thank God we didn't have to look at those solar panels occasionally.\\n\\nOffshore fracking? Fucks sake. Have you already forgotten the deepwater horizon disaster? Think about the damage that did to the gulf coast, add a few million barrels of highly toxic fracking fluid to the mix, and there you have our next major environmental disaster courtesy of offshore fracking. But oh man, those solar panels sure are ugly.\\n\\nStop repeating the lies fed to you by the people getting rich from fossil fuels, who couldn't care less about you or your descendants as long as they get theirs. We can deal with the less environmentally friendly aspects of solar power. We cannot deal with the consequences of continuing to pump carbon into the atmosphere. Y'all need to grow the fuck up and stop whining about the view.\", \"I'm honestly waiting for climate change and the impacts of that to kick some fucking sense into people. But who am I kidding itll still just be more of the poor suffering while the rich claim victim hood for handouts while letting us all starve. Its honestly hard some days to not just give up, and I truly wonder if and when anything will ever actually be done.\", \"Not just Sacramento. It's actually happening all over the world. Climate change is real, believe it or not.\", 'I think climate change tends to get some people riled up. \\n\\nWhen I was part of a debate club, they loved throwing that subject in. One case we had to discuss was whether or not it was okay to fly if it pollutes the air. A friend of mine on the team got very worked up because he loves to travel. At the end, we actually had to make up because our disagreement about flying got very heated.', 'Naaa how could anyone be mad at a face like that... Must definitely be climate change']\n",
            "-1\n",
            "---- TEST RESULT #3 ----\n",
            "(['comment', 'imlddn9', '2qh3l', 'news', 'false', '1661990368', 'https://old.reddit.com/r/news/comments/x2cszk/us_life_expectancy_down_for_secondstraight_year/imlddn9/', 'Yeah but what the above commenter is saying is their base doesn’t want any of that. They detest all of those things, even the small gradual changes. Investing in nuclear energy is a tacit acknowledgement of man made climate change. Any acknowledgement or concession and they will be primaried out in a minute', '0.5719', 2], ['comment', 'imlalog', '2qhp7', 'urbanplanning', 'false', '1661989136', 'https://old.reddit.com/r/urbanplanning/comments/x2s5u0/we_built_a_fake_metropolis_to_show_how_extreme/imlalog/', '&gt;Most of the mechanical, electrical and architectural systems we count on every day were built to handle what the climate has always been, not what it is rapidly becoming.\\n&gt;\\n&gt;That means, for instance, that Norwegian runways, Seattle streets and London bridges handle wind, rain and cold just fine, but a triple-digit heat wave? Not so much.\\n&gt;\\n&gt;This project illustrates some of what can happen when unprecedented heat settles over a built environment that isn’t ready for it. Each of these things has happened somewhere, or in many places, around the world, but we’re putting them all in one fictitious town.\\n&gt;\\n&gt;...\\n&gt;\\n&gt;Our fictional friends in Meltsville had just one weather crisis to handle, with no water shortage, no wildfires, no storms.\\n&gt;\\n&gt;But out in the real world, an extreme heat wave is often part of a catastrophic spiral. It may exacerbate drought that parches foliage, which fuels wildfires, which leave barren land susceptible to flooding. Infrastructure that ices over in January may become waterlogged in April and bake in July.\\n&gt;\\n&gt;“There’s a concept in engineering called stationarity, the assumption that your assumptions don’t change,” said Millar, a former transportation engineer and planner. “With climate change, those assumptions are changing.”\\n\\nThis looked like a pretty interesting exercise to go through, and would potentially be useful for actual cities to work through with some modelling. What are some of the consequences for various likely scenarios to each community, and what might be some ways to mitigate the worst of them? Better to plan now for these scenarios rather than try to deal with them during or after the fact.', '0.8361', 18])\n",
            "(['comment', 'c0i28hb', '2qh1n', 'environment', 'false', '1262383373', 'https://old.reddit.com/r/environment/comments/akl0m/is_the_airborne_fraction_of_anthropogenic_co2/c0i28hb/', 'No one truly knows what\\'s going on, but for a while there, I was thinking, \"Duh, hello, of course it\\'s us.\"  Some information I\\'ve seen recently leads me to wonder.  Also, the amount of CO2 we pump into the air is great already and has not really changed year to year.  Why the sudden, accelerated climb?  Is the \"feedback loop\" really taking hold so quickly?  Did we just have to get it to a certain point and now it will skyrocket?  I see posts on reddit every other week about some finding or another that says warming is happening even faster than previously thought.  \\n\\nSomething else that has me wondering:\\n\\nPeople talk about the methane being released by creatures trapped under what should be permafrost, which is now melting.  What was going on with the climate when it was warm enough for those creatures to be alive and thriving in their environments?\\n\\nI\\'m also not trying to say climate change and global warming aren\\'t happening, and that the results won\\'t be catastrophic, but I just wonder about the answers to some of these questions.', '0.9366', 2], ['comment', 'c0ij99l', '2qh1n', 'environment', 'false', '1263147692', 'https://old.reddit.com/r/environment/comments/anucv/32000_of_the_worlds_leading_scientists_is_that/c0ij99l/', \"What's sad is that the enormity of research that's needed to debunk these statements fully and even then such information can be dismissed as conspiracy theory's and such. The video was very informative but as a responsible citizen I feel as I should double check these facts. Yet I don't have the time and this is one of many lies or misdirection statements on climate change. In all honesty the IPCC should be the end all be all voice for this issue and governments should move from there. \\n\\nI certainly don't get paid to drudge through this shit.\", '-0.5385', 18])\n"
          ]
        }
      ]
    },
    {
      "cell_type": "code",
      "source": [
        "#Comparative between functions for get messages by id\n",
        "\n",
        "ids = [str(random.randint(0, 5000000)) for _ in range(100)]\n",
        "\n",
        "total_time_no_dict = 0                                              \n",
        "for identifier in ids:                                              \n",
        "    start = time()                                             \n",
        "    schedule.messages_from_id(identifier)                        \n",
        "    end = time()                                               \n",
        "    total_time_no_dict += end - start                               \n",
        "    \n",
        "total_time_dict = 0                                                 \n",
        "for identifier in ids:                                              \n",
        "    start = time()                                             \n",
        "    schedule.fast_messages_from_id(identifier)                   \n",
        "    end = time()                                               \n",
        "    total_time_dict += end - start                                  \n",
        "    \n",
        "print(total_time_no_dict)                                           \n",
        "print(total_time_dict)\n"
      ],
      "metadata": {
        "colab": {
          "base_uri": "https://localhost:8080/"
        },
        "id": "W1dLaCBlwWQs",
        "outputId": "d2b63215-ca5f-4248-c148-1bacab9c51fd"
      },
      "execution_count": null,
      "outputs": [
        {
          "output_type": "stream",
          "name": "stdout",
          "text": [
            "64.77244329452515\n",
            "0.000118255615234375\n"
          ]
        }
      ]
    },
    {
      "cell_type": "code",
      "source": [
        "#Comparative between functions for get messages by sum of score\n",
        "\n",
        "ids1 = [random.randint(0, 200) for _ in range(10000)]                          \n",
        "\n",
        "total_time_no_dict = 0                                              \n",
        "for identifier in ids1:                                              \n",
        "    start = time()                                             \n",
        "    schedule.messages_by_sum(identifier)                        \n",
        "    end = time()                                               \n",
        "    total_time_no_dict += end - start                               \n",
        "    \n",
        "total_time_dict = 0                                                 \n",
        "for identifier in ids1:                                              \n",
        "    start = time()                                             \n",
        "    schedule.fast_messages_by_sum(identifier)                   \n",
        "    end = time()                                               \n",
        "    total_time_dict += end - start                                  \n",
        "    \n",
        "print(total_time_no_dict)                                           \n",
        "print(total_time_dict)"
      ],
      "metadata": {
        "colab": {
          "base_uri": "https://localhost:8080/"
        },
        "id": "cvPqg3RS2ehR",
        "outputId": "525417f5-7f30-4d9f-92a1-4deaf083fe28"
      },
      "execution_count": null,
      "outputs": [
        {
          "output_type": "stream",
          "name": "stdout",
          "text": [
            "23.292742252349854\n",
            "0.15407919883728027\n"
          ]
        }
      ]
    },
    {
      "cell_type": "markdown",
      "source": [
        "## Pytest"
      ],
      "metadata": {
        "id": "R_z6o9015Tk9"
      }
    },
    {
      "cell_type": "code",
      "source": [
        "!pip install pytest pytest-sugar"
      ],
      "metadata": {
        "id": "Z0Qjsxjv5ZO7",
        "colab": {
          "base_uri": "https://localhost:8080/"
        },
        "outputId": "d37a2006-3d7c-4399-a45e-bd35f7550998"
      },
      "execution_count": null,
      "outputs": [
        {
          "output_type": "stream",
          "name": "stdout",
          "text": [
            "Looking in indexes: https://pypi.org/simple, https://us-python.pkg.dev/colab-wheels/public/simple/\n",
            "Requirement already satisfied: pytest in /usr/local/lib/python3.7/dist-packages (3.6.4)\n",
            "Requirement already satisfied: pytest-sugar in /usr/local/lib/python3.7/dist-packages (0.9.5)\n",
            "Requirement already satisfied: pluggy<0.8,>=0.5 in /usr/local/lib/python3.7/dist-packages (from pytest) (0.7.1)\n",
            "Requirement already satisfied: atomicwrites>=1.0 in /usr/local/lib/python3.7/dist-packages (from pytest) (1.4.1)\n",
            "Requirement already satisfied: py>=1.5.0 in /usr/local/lib/python3.7/dist-packages (from pytest) (1.11.0)\n",
            "Requirement already satisfied: more-itertools>=4.0.0 in /usr/local/lib/python3.7/dist-packages (from pytest) (8.14.0)\n",
            "Requirement already satisfied: six>=1.10.0 in /usr/local/lib/python3.7/dist-packages (from pytest) (1.15.0)\n",
            "Requirement already satisfied: attrs>=17.4.0 in /usr/local/lib/python3.7/dist-packages (from pytest) (22.1.0)\n",
            "Requirement already satisfied: setuptools in /usr/local/lib/python3.7/dist-packages (from pytest) (57.4.0)\n",
            "Requirement already satisfied: packaging>=14.1 in /usr/local/lib/python3.7/dist-packages (from pytest-sugar) (21.3)\n",
            "Requirement already satisfied: termcolor>=1.1.0 in /usr/local/lib/python3.7/dist-packages (from pytest-sugar) (2.0.1)\n",
            "Requirement already satisfied: pyparsing!=3.0.5,>=2.0.2 in /usr/local/lib/python3.7/dist-packages (from packaging>=14.1->pytest-sugar) (3.0.9)\n"
          ]
        }
      ]
    },
    {
      "cell_type": "code",
      "source": [
        "%%file test_data.py\n",
        "import pytest, csv, random\n",
        "from time import time\n",
        "\n",
        "dataset = \"./drive/MyDrive/the-reddit-climate-change-dataset-comments.csv\"\n",
        "\n",
        "class Schedule():\n",
        "  def __init__(self, dataset): # step 2\n",
        "        with open(dataset) as f: # step 3\n",
        "            reader = csv.reader(f)\n",
        "            rows = list(reader)\n",
        "        self.header = rows[0]         # step 4\n",
        "        self.rows = rows[1:]\n",
        "        for row in self.rows:         # step 5\n",
        "            row[-1] = int(row[-1])\n",
        "        self.id_comment = {}             \n",
        "        self.score = {}           \n",
        "        for row in self.rows:                       \n",
        "            self.id_comment[row[1]] = row\n",
        "            self.score[int(row[9])] = row\n",
        "  def messages_from_id(self, message_id):   # step 1\n",
        "    for row in self.rows:                  # step 2\n",
        "      if row[1] == message_id:\n",
        "        return row\n",
        "    return None  \n",
        "  def fast_messages_from_id(self, message_id): \n",
        "    if message_id in self.id_comment:           \n",
        "            return self.id_comment[message_id]\n",
        "    return None                          # step 3\n",
        "  def sentiment(self, lower, upper):\n",
        "    sentiments = []   \n",
        "    if lower > upper:\n",
        "      return -1\n",
        "    if lower <= 0:\n",
        "      return -1\n",
        "    for row in self.rows[lower:upper+1]:\n",
        "        sentiments.append(row[7])    \n",
        "    return sentiments\n",
        "  def messages_by_sum(self, p):\n",
        "    for i in (self.rows):\n",
        "      for j in (self.rows):\n",
        "        if int(i[9]) + int(j[9]) == p:\n",
        "          return i, j\n",
        "    return -1\n",
        "  def fast_messages_by_sum(self, p):\n",
        "    for i in (self.score):\n",
        "      for j in (self.score):\n",
        "        if i + j == p:\n",
        "          return self.score[i], self.score[j]\n",
        "    return -1\n",
        "\n",
        "@pytest.fixture(scope=\"session\")\n",
        "def data():\n",
        "    schedule = Schedule(dataset) \n",
        "    return schedule\n",
        "\n",
        "def test_find_message_id(data):\n",
        "    \"\"\"\n",
        "    Test 1 - Look up a dataset row based on an id, knowing that the id exists in the dataset (without using dictonary)\n",
        "    \"\"\"\n",
        "    assert data.messages_from_id('imlddn9') == ['comment', 'imlddn9', '2qh3l', 'news', 'false', '1661990368', 'https://old.reddit.com/r/news/comments/x2cszk/us_life_expectancy_down_for_secondstraight_year/imlddn9/', 'Yeah but what the above commenter is saying is their base doesn’t want any of that. They detest all of those things, even the small gradual changes. Investing in nuclear energy is a tacit acknowledgement of man made climate change. Any acknowledgement or concession and they will be primaried out in a minute', '0.5719', 2]\n",
        "\n",
        "\n",
        "def test_doesnt_find_message_id(data):\n",
        "    \"\"\"\n",
        "    Test 2 - Look up a dataset row based on an id, knowing that the id doesn't exist in the dataset (without using dictonary)\n",
        "    \"\"\"\n",
        "    assert data.messages_from_id('abcd1234') == None\n",
        "\n",
        "def test_find_fast_message_id(data):\n",
        "    \"\"\"\n",
        "    Test 3 - Look up a dataset row based on an id, knowing that the id exists in the dataset (using dictonary)\n",
        "    \"\"\"\n",
        "    assert data.fast_messages_from_id('imlddn9') == ['comment', 'imlddn9', '2qh3l', 'news', 'false', '1661990368', 'https://old.reddit.com/r/news/comments/x2cszk/us_life_expectancy_down_for_secondstraight_year/imlddn9/', 'Yeah but what the above commenter is saying is their base doesn’t want any of that. They detest all of those things, even the small gradual changes. Investing in nuclear energy is a tacit acknowledgement of man made climate change. Any acknowledgement or concession and they will be primaried out in a minute', '0.5719', 2]\n",
        "\n",
        "def test_doesnt_find_fast_message_id(data):\n",
        "    \"\"\"\n",
        "    Test 4 - Look up a dataset row based on an id, knowing that the id doesn't exist in the dataset (using dictonary)\n",
        "    \"\"\"\n",
        "    assert data.fast_messages_from_id('abcd1234') == None\n",
        "\n",
        "def test_wout_lower_limit(data):\n",
        "    \"\"\"\n",
        "    Test 5\n",
        "    \"\"\"\n",
        "    assert data.sentiment(-1, 1) == -1\n",
        "\n",
        "\n",
        "def test_wout_upper_limit(data):\n",
        "    \"\"\"\n",
        "    Test 6\n",
        "    \"\"\"\n",
        "    assert data.sentiment(2, 1) == -1\n",
        "\n",
        "def test_w_limits(data):\n",
        "    \"\"\"\n",
        "    Test 7\n",
        "    \"\"\"\n",
        "    assert data.sentiment(1, 5) == [\"Any comparison of efficiency between solar and fossil fuels is nonsensical at best and intentionally misleading at worst. In no universe is light -&gt; photovoltaic cell -&gt; electricity less efficient than light -&gt; entire food chain -&gt; biomass -&gt; decomposition -&gt; millions of years of geothermal heat and pressure -&gt; extraction -&gt; refining and transport -&gt; burning -&gt; turbine generator -&gt; electricity.\\n\\nUgly? More ugly than power lines, roads, apartment buildings, tractors, fences, etc etc etc? You're simply not used to it. Also, who cares? Sure, millions of people died in the displacement from sea rise, famines cause by climate change, and wars from resource scarcity, but thank God we didn't have to look at those solar panels occasionally.\\n\\nOffshore fracking? Fucks sake. Have you already forgotten the deepwater horizon disaster? Think about the damage that did to the gulf coast, add a few million barrels of highly toxic fracking fluid to the mix, and there you have our next major environmental disaster courtesy of offshore fracking. But oh man, those solar panels sure are ugly.\\n\\nStop repeating the lies fed to you by the people getting rich from fossil fuels, who couldn't care less about you or your descendants as long as they get theirs. We can deal with the less environmentally friendly aspects of solar power. We cannot deal with the consequences of continuing to pump carbon into the atmosphere. Y'all need to grow the fuck up and stop whining about the view.\", \"I'm honestly waiting for climate change and the impacts of that to kick some fucking sense into people. But who am I kidding itll still just be more of the poor suffering while the rich claim victim hood for handouts while letting us all starve. Its honestly hard some days to not just give up, and I truly wonder if and when anything will ever actually be done.\", \"Not just Sacramento. It's actually happening all over the world. Climate change is real, believe it or not.\", 'I think climate change tends to get some people riled up. \\n\\nWhen I was part of a debate club, they loved throwing that subject in. One case we had to discuss was whether or not it was okay to fly if it pollutes the air. A friend of mine on the team got very worked up because he loves to travel. At the end, we actually had to make up because our disagreement about flying got very heated.', 'Naaa how could anyone be mad at a face like that... Must definitely be climate change'] "
      ],
      "metadata": {
        "id": "piF63K1UBq98",
        "colab": {
          "base_uri": "https://localhost:8080/"
        },
        "outputId": "a0917069-14b0-47ca-c0f5-5d72f1ab3c37"
      },
      "execution_count": null,
      "outputs": [
        {
          "output_type": "stream",
          "name": "stdout",
          "text": [
            "Overwriting test_data.py\n"
          ]
        }
      ]
    },
    {
      "cell_type": "code",
      "source": [
        "!pytest . -vv"
      ],
      "metadata": {
        "id": "LSruFcyIEdOv",
        "colab": {
          "base_uri": "https://localhost:8080/"
        },
        "outputId": "d23e5d7f-13ea-4d7e-c3ed-c9fd37e9bb9d"
      },
      "execution_count": null,
      "outputs": [
        {
          "output_type": "stream",
          "name": "stdout",
          "text": [
            "\u001b[1mTest session starts (platform: linux, Python 3.7.14, pytest 3.6.4, pytest-sugar 0.9.5)\u001b[0m\n",
            "cachedir: .pytest_cache\n",
            "rootdir: /content, inifile:\n",
            "plugins: typeguard-2.7.1, sugar-0.9.5\n",
            "\n",
            " \u001b[36mtest_data.py\u001b[0m::test_find_message_id\u001b[0m \u001b[32m✓\u001b[0m                             \u001b[32m14% \u001b[0m\u001b[40m\u001b[32m█\u001b[0m\u001b[40m\u001b[32m▌        \u001b[0m\n",
            " \u001b[36mtest_data.py\u001b[0m::test_doesnt_find_message_id\u001b[0m \u001b[32m✓\u001b[0m                      \u001b[32m29% \u001b[0m\u001b[40m\u001b[32m█\u001b[0m\u001b[40m\u001b[32m█\u001b[0m\u001b[40m\u001b[32m▉       \u001b[0m\n",
            " \u001b[36mtest_data.py\u001b[0m::test_find_fast_message_id\u001b[0m \u001b[32m✓\u001b[0m                        \u001b[32m43% \u001b[0m\u001b[40m\u001b[32m█\u001b[0m\u001b[40m\u001b[32m█\u001b[0m\u001b[40m\u001b[32m█\u001b[0m\u001b[40m\u001b[32m█▍     \u001b[0m\n",
            " \u001b[36mtest_data.py\u001b[0m::test_doesnt_find_fast_message_id\u001b[0m \u001b[32m✓\u001b[0m                 \u001b[32m57% \u001b[0m\u001b[40m\u001b[32m█\u001b[0m\u001b[40m\u001b[32m█\u001b[0m\u001b[40m\u001b[32m█\u001b[0m\u001b[40m\u001b[32m█\u001b[0m\u001b[40m\u001b[32m█\u001b[0m\u001b[40m\u001b[32m▊    \u001b[0m\n",
            " \u001b[36mtest_data.py\u001b[0m::test_wout_lower_limit\u001b[0m \u001b[32m✓\u001b[0m                            \u001b[32m71% \u001b[0m\u001b[40m\u001b[32m█\u001b[0m\u001b[40m\u001b[32m█\u001b[0m\u001b[40m\u001b[32m█\u001b[0m\u001b[40m\u001b[32m█\u001b[0m\u001b[40m\u001b[32m█\u001b[0m\u001b[40m\u001b[32m█\u001b[0m\u001b[40m\u001b[32m█▎  \u001b[0m\n",
            " \u001b[36mtest_data.py\u001b[0m::test_wout_upper_limit\u001b[0m \u001b[32m✓\u001b[0m                            \u001b[32m86% \u001b[0m\u001b[40m\u001b[32m█\u001b[0m\u001b[40m\u001b[32m█\u001b[0m\u001b[40m\u001b[32m█\u001b[0m\u001b[40m\u001b[32m█\u001b[0m\u001b[40m\u001b[32m█\u001b[0m\u001b[40m\u001b[32m█\u001b[0m\u001b[40m\u001b[32m█\u001b[0m\u001b[40m\u001b[32m█\u001b[0m\u001b[40m\u001b[32m▋ \u001b[0m\n",
            " \u001b[36mtest_data.py\u001b[0m::test_w_limits\u001b[0m \u001b[32m✓\u001b[0m                                   \u001b[32m100% \u001b[0m\u001b[40m\u001b[32m█\u001b[0m\u001b[40m\u001b[32m█\u001b[0m\u001b[40m\u001b[32m█\u001b[0m\u001b[40m\u001b[32m█\u001b[0m\u001b[40m\u001b[32m█\u001b[0m\u001b[40m\u001b[32m█\u001b[0m\u001b[40m\u001b[32m█\u001b[0m\u001b[40m\u001b[32m█\u001b[0m\u001b[40m\u001b[32m█\u001b[0m\u001b[40m\u001b[32m█\u001b[0m\n",
            "\n",
            "Results (114.37s):\n",
            "\u001b[32m       7 passed\u001b[0m\n"
          ]
        }
      ]
    }
  ]
}